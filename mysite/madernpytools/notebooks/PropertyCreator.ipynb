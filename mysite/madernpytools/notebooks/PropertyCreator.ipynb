{
 "cells": [
  {
   "cell_type": "code",
   "execution_count": 1,
   "metadata": {},
   "outputs": [],
   "source": [
    "import ipywidgets as widgets\n",
    "import madernpytools.madern_widgets as mwid\n",
    "import madernpytools.models.toolset_model as mts\n",
    "import madernpytools.backbone as mbb\n",
    "import madernpytools.module_data as mdata\n",
    "import numpy as np\n",
    "import traitlets, inspect\n",
    "import xml.etree.cElementTree as ET\n",
    "import copy, os, logging, sys\n",
    "import types\n",
    "\n",
    "stream = logging.StreamHandler(sys.stdout)\n",
    "stream.setFormatter(logging.Formatter(\"%(levelname)-8s %(message)s\"))\n",
    "for log_name in ['madernpytools']: #, 'ScanControl']:\n",
    "    log = logging.getLogger(log_name)\n",
    "    log.setLevel(logging.WARNING)\n",
    "    log.addHandler(stream)\n",
    "\n",
    "\n",
    "%matplotlib inline"
   ]
  },
  {
   "cell_type": "code",
   "execution_count": 2,
   "metadata": {
    "scrolled": false
   },
   "outputs": [
    {
     "data": {
      "application/vnd.jupyter.widget-view+json": {
       "model_id": "83751e36333e4b098f241108cbcb7c94",
       "version_major": 2,
       "version_minor": 0
      },
      "text/plain": [
       "Button(description='Refresh Library', style=ButtonStyle())"
      ]
     },
     "metadata": {},
     "output_type": "display_data"
    },
    {
     "data": {
      "application/vnd.jupyter.widget-view+json": {
       "model_id": "d83e57a913f84f4a9626b5dc11601dcb",
       "version_major": 2,
       "version_minor": 0
      },
      "text/plain": [
       "Accordion(children=(Tab(children=(ModelEditor(), ModelEditor(), ModelEditor()), _titles={'0': 'SphericalBearin…"
      ]
     },
     "metadata": {},
     "output_type": "display_data"
    }
   ],
   "source": [
    "btn_refresh = widgets.Button(description='Refresh Library')\n",
    "lib = mts.MadernModelLibrary().load('../data/library/',verbose=False)\n",
    "parts_output, parts_widgets = mwid.generate_editors_in_tab([\n",
    "                                                            mts.Material, \n",
    "                                                            mts.Thread, \n",
    "                                                            mts.TensionRod, \n",
    "                                                            mts.TensionNTieRods, \n",
    "                                                            mts.RiRoTensionScrew,\n",
    "                                                            mts.SetScrew, \n",
    "                                                            mts.SpacerNSetScrews, \n",
    "                                                            mts.RiRoShimPack\n",
    "                                                            \n",
    "                                                           ],\n",
    "                                                          lib=lib)\n",
    "bearings_output, bearing_widgets = mwid.generate_editors_in_tab([mts.SphericalBearing, \n",
    "                                                                 mts.TaperedBearing, \n",
    "                                                                 mts.OTaperedBearing], lib=lib)\n",
    "\n",
    "\n",
    "ts_output,  ts_widgets = mwid.generate_editors_in_tab([mts.BobstToolset, mts.Cylinder, \n",
    "                                                       mts.BearingBlock,\n",
    "                                                       mts.BearerRing, mts.Shaft, \n",
    "                                                       mts.BearingBlock, mts.SimpleLayout, mts.Gear], lib=lib)\n",
    "\n",
    "#btn_refresh.on_click(lambda obj: mwid.refresh_library({**ts_widgets, **parts_widgets, **bearing_widgets},\n",
    "#                                                      mts.MadernModelLibrary().load('./data/library/')\n",
    "#                                                     )\n",
    "#                    )\n",
    "#\n",
    "# Accordeon:\n",
    "my_accordion = widgets.Accordion(children=[bearings_output, parts_output, ts_output])\n",
    "for i, name in enumerate(['Bearings', 'Toolset Parts', 'Toolset Configuration']):\n",
    "    my_accordion.set_title(i, name)\n",
    "\n",
    "\n",
    "#my_accordion.titles = ['Bearings', 'Toolset Parts', 'Toolset Configuration']\n",
    "#my_accordion._title(0, 'Bearings')\n",
    "#my_accordion.set_title(1, 'Toolset Parts')\n",
    "#my_accordion.set_title(2, 'Toolset Configuration')\n",
    "my_accordion.selected_index = None\n",
    "\n",
    "display(btn_refresh)\n",
    "display(my_accordion)\n"
   ]
  },
  {
   "cell_type": "code",
   "execution_count": null,
   "metadata": {},
   "outputs": [],
   "source": [
    "my_accordion.set_title()"
   ]
  },
  {
   "cell_type": "code",
   "execution_count": null,
   "metadata": {},
   "outputs": [],
   "source": [
    "lib.get_of_type(mts.IToolset)"
   ]
  },
  {
   "cell_type": "code",
   "execution_count": null,
   "metadata": {
    "scrolled": false
   },
   "outputs": [],
   "source": [
    "tie_rod = lib.get_of_type(mbb.MadernObject)['DR67-tierod (v2016)']\n",
    "spacer = lib.get_of_type(mbb.MadernObject)['bobst_DR67_2setscrew_spacer']\n",
    "bearing = lib.get_of_type(mbb.MadernObject)['bearing_32016']\n",
    "bearing_block = mts.BearingBlock(bearing=bearing, s=50, mass=60.0)\n",
    "layout = mts.SimpleLayout(ax_line_length=600)\n",
    "upper_gear = mts.Gear(width=50, d_pitch=220, d_bore=80, material=mts.steel, module=2) \n",
    "lower_gear = mts.Gear(width=50, d_pitch=220, d_bore=80, material=mts.steel, module=2) \n",
    "        \n",
    "upper_cylinder = mts.Cylinder(\n",
    "                        os_shaft=mts.Shaft(inner_diameter=0, outer_diameter=80,material=mts.steel, length=100),\n",
    "                        ds_shaft=mts.Shaft(inner_diameter=0, outer_diameter=80,material=mts.steel, length=100),\n",
    "                        body=mts.Shaft(inner_diameter=0, outer_diameter=200,material=mts.steel, length=800),\n",
    "                       bearer_ring=mts.BearerRing(width=50,diameter=200,angle=1.0,material=mts.steel,thickness=50),\n",
    "                       br_location=300)\n",
    "\n",
    "lower_cylinder = mts.Cylinder(\n",
    "                        os_shaft=mts.Shaft(inner_diameter=0, outer_diameter=80,material=mts.steel, length=100),\n",
    "                        ds_shaft=mts.Shaft(inner_diameter=0, outer_diameter=80,material=mts.steel, length=100),\n",
    "                        body=mts.Shaft(inner_diameter=0, outer_diameter=200,material=mts.steel, length=850),\n",
    "                       bearer_ring=mts.BearerRing(width=50,diameter=200,angle=1.0,material=mts.steel,thickness=50),\n",
    "                       br_location=300)\n",
    "\n",
    "ts = mts.BobstToolset(upper_cylinder=upper_cylinder,\n",
    "                      lower_cylinder=lower_cylinder,\n",
    "                      spacer=spacer,\n",
    "                      tensioner=tie_rod,\n",
    "                      upper_bearing_block=copy.copy(bearing_block),\n",
    "                      lower_bearing_block=copy.copy(bearing_block),\n",
    "                      upper_gear = upper_gear,\n",
    "                      lower_gear = lower_gear,\n",
    "                      layout=layout,\n",
    "                      name='Toolset',\n",
    "                      F_t = 20e3,\n",
    "                      q_cut= 0.0\n",
    "                     )\n",
    "        \n",
    "        \n",
    "w_ts = mwid.ToolsetWidget(ts, lib) \n",
    "display(w_ts)"
   ]
  },
  {
   "cell_type": "code",
   "execution_count": null,
   "metadata": {},
   "outputs": [],
   "source": [
    "def cb_save_btn(self):\n",
    "    # Collect filename:\n",
    "    fn = mwid.get_file_name()\n",
    "    if fn != '':\n",
    "        fn = os.path.splitext(fn)[0]\n",
    "        ET.ElementTree(ts.to_xml()).write('{}.xml'.format(fn))\n",
    "        \n",
    "save_btn = widgets.Button(description='Save')\n",
    "save_btn.on_click(cb_save_btn)\n",
    "display(save_btn)"
   ]
  },
  {
   "cell_type": "code",
   "execution_count": null,
   "metadata": {},
   "outputs": [],
   "source": [
    "mwid.MadernPropertyDisplay()"
   ]
  },
  {
   "cell_type": "code",
   "execution_count": null,
   "metadata": {},
   "outputs": [],
   "source": []
  },
  {
   "cell_type": "code",
   "execution_count": null,
   "metadata": {},
   "outputs": [],
   "source": [
    "import abc\n",
    "def NotImplementedField(self):\n",
    "    raise NotImplementedField()\n",
    "    \n",
    "class AbstractClass(abc.AbstractClass):\n",
    "    \n",
    "    @property\n",
    "    @abc.abstractmethod\n",
    "    def x(self):\n",
    "        raise NotImplementedError()\n",
    "    \n",
    "class FailTest(AbstractClass):\n",
    "    pass\n",
    "    \n",
    "class Test(AbstractClass):\n",
    "    x='bla'\n",
    "    \n",
    "\n",
    "FailTest()\n"
   ]
  }
 ],
 "metadata": {
  "hide_input": false,
  "kernelspec": {
   "display_name": "Python 3 (ipykernel)",
   "language": "python",
   "name": "python3"
  },
  "language_info": {
   "codemirror_mode": {
    "name": "ipython",
    "version": 3
   },
   "file_extension": ".py",
   "mimetype": "text/x-python",
   "name": "python",
   "nbconvert_exporter": "python",
   "pygments_lexer": "ipython3",
   "version": "3.9.9"
  },
  "latex_envs": {
   "LaTeX_envs_menu_present": true,
   "autoclose": false,
   "autocomplete": false,
   "bibliofile": "biblio.bib",
   "cite_by": "apalike",
   "current_citInitial": 1,
   "eqLabelWithNumbers": true,
   "eqNumInitial": 1,
   "hotkeys": {
    "equation": "Ctrl-E",
    "itemize": "Ctrl-second_area_moment"
   },
   "labels_anchors": false,
   "latex_user_defs": false,
   "report_style_numbering": false,
   "user_envs_cfg": false
  },
  "toc": {
   "base_numbering": 1,
   "nav_menu": {},
   "number_sections": true,
   "sideBar": true,
   "skip_h1_title": false,
   "title_cell": "Table of Contents",
   "title_sidebar": "Contents",
   "toc_cell": false,
   "toc_position": {
    "height": "calc(100% - 180px)",
    "left": "10px",
    "top": "150px",
    "width": "165px"
   },
   "toc_section_display": true,
   "toc_window_display": true
  }
 },
 "nbformat": 4,
 "nbformat_minor": 4
}
